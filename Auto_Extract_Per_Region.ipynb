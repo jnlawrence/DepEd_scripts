{
 "cells": [
  {
   "cell_type": "code",
   "execution_count": null,
   "id": "75ff9a83",
   "metadata": {},
   "outputs": [],
   "source": [
    "import pandas as pd\n",
    "import os\n"
   ]
  },
  {
   "cell_type": "code",
   "execution_count": null,
   "id": "9dc3e289",
   "metadata": {},
   "outputs": [],
   "source": [
    "from openpyxl import load_workbook\n",
    "from openpyxl.worksheet.datavalidation import DataValidation\n",
    "from openpyxl.utils import get_column_letter\n",
    "\n",
    "\n",
    "# Load workbook and worksheet\n",
    "wb = load_workbook(r\"Filtered_By_Region\\CAR\\CAR_NEWCON.xlsx\")\n",
    "ws = wb.active\n",
    "\n",
    "# Add a new worksheet (or reuse if exists)\n",
    "if \"DropdownOptions\" not in wb.sheetnames:\n",
    "    dropdown_ws = wb.create_sheet(\"DropdownOptions\")\n",
    "else:\n",
    "    dropdown_ws = wb[\"DropdownOptions\"]\n",
    "\n",
    "# Example long list of options\n",
    "newcon_dropdown_options = [\n",
    "     r\"0% - 10%: Foundation completed: Groundwork finished; no vertical structure yet.\",\n",
    "    r\"11% - 25%: Structure and rough-in started: Structural framing in progress; initial MEP rough-in.\"\n",
    "    r\"26% - 50%: Structure erected, partial roofing: Building shape defined; roof and systems advancing.\",\n",
    "    r\"51% - 75%: Exterior sealed, interior work underway: Enclosed structure; painting, flooring, and testing begin.\",\n",
    "    r\"76% - 90%: Final finishes and inspections: Systems tested; \",\n",
    "    r\"91% - 99%: Final touches and punch list: Minor adjustments; final inspections and approvals.\",\n",
    "    r\"100% - Construction complete: Ready for handover and occupancy.\"\n",
    "]\n",
    "\n",
    "# Write the options into the helper sheet starting at A1\n",
    "for i, option in enumerate(newcon_dropdown_options, start=1):\n",
    "    dropdown_ws.cell(row=i, column=1, value=option)\n",
    "\n",
    "# Hide the helper sheet (optional)\n",
    "dropdown_ws.sheet_state = 'hidden'\n",
    "\n"
   ]
  },
  {
   "cell_type": "code",
   "execution_count": null,
   "id": "d5c2c9e4",
   "metadata": {},
   "outputs": [],
   "source": [
    "\n",
    "#create sample dropdown list in column A\n",
    "# Create a DataValidation object for the dropdown list\n",
    "newcon_dropdown = DataValidation(\n",
    "    type=\"list\",\n",
    "    formula1='\"' + ','.join(newcon_dropdown_options) + '\"',\n",
    "    allow_blank=True,\n",
    "    showDropDown=True,\n",
    "    promptTitle=\"Select Newcon Status\",\n",
    "    prompt=\"Please select a status from the dropdown list.\",\n",
    "    errorTitle=\"Invalid Selection\",\n",
    "    error=\"Please select a valid status from the dropdown list.\"\n",
    ")\n",
    "# Add the DataValidation to the worksheet\n",
    "ws.add_data_validation(newcon_dropdown)\n",
    "# Apply the DataValidation to a specific range (e.g., column A)\n",
    "for row in range(2, ws.max_row + 1):  # Assuming the first\n",
    "# row is a header row, start from the second row\n",
    "    cell = ws.cell(row=row, column=1)  # Column A\n",
    "    newcon_dropdown.add(cell)\n",
    "# sAVE WORKSHEET\n",
    "wb.save(r\"dropdown_example.xlsx\")\n",
    "# \n",
    "\n"
   ]
  }
 ],
 "metadata": {
  "kernelspec": {
   "display_name": "Python 3",
   "language": "python",
   "name": "python3"
  },
  "language_info": {
   "codemirror_mode": {
    "name": "ipython",
    "version": 3
   },
   "file_extension": ".py",
   "mimetype": "text/x-python",
   "name": "python",
   "nbconvert_exporter": "python",
   "pygments_lexer": "ipython3",
   "version": "3.12.10"
  }
 },
 "nbformat": 4,
 "nbformat_minor": 5
}
